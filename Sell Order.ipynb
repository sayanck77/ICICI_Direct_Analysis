{
 "cells": [
  {
   "cell_type": "code",
   "execution_count": null,
   "id": "624fb077",
   "metadata": {},
   "outputs": [],
   "source": [
    "isec.place_order(stock_code=\"ITC\",\n",
    "                    exchange_code=\"NSE\",\n",
    "                    product=\"cash\",\n",
    "                    action=\"sell\",\n",
    "                    order_type=\"market\",\n",
    "                    stoploss=\"\",\n",
    "                    quantity=\"1\",\n",
    "                    price=\"0\",\n",
    "                    validity=\"day\"\n",
    "                )"
   ]
  }
 ],
 "metadata": {
  "language_info": {
   "name": "python"
  }
 },
 "nbformat": 4,
 "nbformat_minor": 5
}
