{
 "cells": [
  {
   "cell_type": "code",
   "execution_count": 14,
   "id": "71c55e35",
   "metadata": {},
   "outputs": [
    {
     "name": "stdout",
     "output_type": "stream",
     "text": [
      "      code            datetime   open   high    low  close  volume\n",
      "0   SBINIF 2015-07-27 12:07:00  85.00  85.35  85.00  85.35      51\n",
      "1   SBINIF 2015-07-29 12:07:00  83.05  83.10  83.00  83.04      50\n",
      "2   SBINIF 2015-07-30 12:07:00  85.05  86.10  85.05  86.10     120\n",
      "3   SBINIF 2015-07-31 12:07:00  85.35  86.40  85.25  86.02     393\n",
      "4   SBINIF 2015-08-03 12:08:00  86.00  87.10  86.00  86.73     225\n",
      "..     ...                 ...    ...    ...    ...    ...     ...\n",
      "87  SBIBAN 2015-12-08 12:12:00  77.80  77.99  77.50  77.73    2812\n",
      "88  SBIBAN 2015-12-09 12:12:00  77.70  77.70  76.50  76.63     874\n",
      "89  SBIBAN 2015-12-10 12:12:00  76.60  77.20  76.50  77.00    5521\n",
      "90  SBIBAN 2015-12-11 12:12:00  77.05  77.25  76.45  76.50    5914\n",
      "91  SBIBAN 2015-12-14 12:12:00  76.50  77.50  76.38  76.95    7947\n",
      "\n",
      "[92 rows x 7 columns]\n",
      "<class 'pandas.core.frame.DataFrame'>\n",
      "RangeIndex: 92 entries, 0 to 91\n",
      "Data columns (total 7 columns):\n",
      " #   Column    Non-Null Count  Dtype         \n",
      "---  ------    --------------  -----         \n",
      " 0   code      92 non-null     object        \n",
      " 1   datetime  92 non-null     datetime64[ns]\n",
      " 2   open      92 non-null     float64       \n",
      " 3   high      92 non-null     float64       \n",
      " 4   low       92 non-null     float64       \n",
      " 5   close     92 non-null     float64       \n",
      " 6   volume    92 non-null     int64         \n",
      "dtypes: datetime64[ns](1), float64(4), int64(1), object(1)\n",
      "memory usage: 5.2+ KB\n",
      "None\n",
      "['SBINIF' 'SBIEIT' 'SBIONE' 'SBIBAN']\n"
     ]
    }
   ],
   "source": [
    "import pandas as pd\n",
    "\n",
    "df = pd.read_excel(r\"C:\\Users\\Admin\\My_Projects\\ICICI_Direct_Analysis\\excel_for_test_df.xlsx\")\n",
    "print(df)\n",
    "\n",
    "print(df.info())\n",
    "\n",
    "print(df[\"code\"].unique())"
   ]
  },
  {
   "cell_type": "code",
   "execution_count": 17,
   "id": "d98c33ff",
   "metadata": {},
   "outputs": [
    {
     "name": "stdout",
     "output_type": "stream",
     "text": [
      "<class 'pandas.core.series.Series'>\n",
      "59    83.38\n",
      "Name: close, dtype: float64\n",
      "83.38\n",
      "<class 'numpy.float64'>\n"
     ]
    }
   ],
   "source": [
    "sub_df = df.loc[df[\"code\"] == \"SBIONE\", \"close\"]\n",
    "print(type(sub_df))\n",
    "print(sub_df)\n",
    "print(sub_df.iloc[0])\n",
    "print(type(sub_df.iloc[0]))"
   ]
  },
  {
   "cell_type": "code",
   "execution_count": 26,
   "id": "b75d4e02",
   "metadata": {},
   "outputs": [
    {
     "name": "stdout",
     "output_type": "stream",
     "text": [
      "{'code': 'SBIONE', 'data': 59    83.38\n",
      "Name: close, dtype: float64}\n"
     ]
    }
   ],
   "source": [
    "data = {\"code\": \"SBIONE\", \"data\": sub_df}\n",
    "print(data)"
   ]
  },
  {
   "cell_type": "code",
   "execution_count": 28,
   "id": "4f1d7764",
   "metadata": {},
   "outputs": [
    {
     "name": "stdout",
     "output_type": "stream",
     "text": [
      "{'code': 'SBIONE', 'data': array([83.38])}\n",
      "{'code': 'SBIONE', 'data': [83.38]}\n"
     ]
    }
   ],
   "source": [
    "data = {\"code\": \"SBIONE\", \"data\": sub_df.values}\n",
    "print(data)\n",
    "\n",
    "data = {\"code\": \"SBIONE\", \"data\": sub_df.values.tolist()}\n",
    "print(data)"
   ]
  },
  {
   "cell_type": "code",
   "execution_count": 33,
   "id": "be1d0ac3",
   "metadata": {},
   "outputs": [
    {
     "name": "stdout",
     "output_type": "stream",
     "text": [
      "{'code': 'SBIONE', 'data': np.float64(83.38)}\n",
      "{'code': 'SBIONE', 'data': np.float64(166.76)}\n"
     ]
    }
   ],
   "source": [
    "data = {\"code\": \"SBIONE\", \"data\": sub_df.iloc[0]}\n",
    "print(data)\n",
    "\n",
    "data = {\"code\": \"SBIONE\", \"data\": sub_df.iloc[0] * 2}\n",
    "print(data)"
   ]
  }
 ],
 "metadata": {
  "kernelspec": {
   "display_name": "ICICI_Direct_Analysis_venv",
   "language": "python",
   "name": "python3"
  },
  "language_info": {
   "codemirror_mode": {
    "name": "ipython",
    "version": 3
   },
   "file_extension": ".py",
   "mimetype": "text/x-python",
   "name": "python",
   "nbconvert_exporter": "python",
   "pygments_lexer": "ipython3",
   "version": "3.13.5"
  }
 },
 "nbformat": 4,
 "nbformat_minor": 5
}
